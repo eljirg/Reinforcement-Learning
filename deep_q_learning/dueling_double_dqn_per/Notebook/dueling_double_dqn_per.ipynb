{
 "cells": [
  {
   "cell_type": "markdown",
   "metadata": {},
   "source": [
    "## Dueling Double Deep Q-Network With Prioritized Experience Replay (Dueling DQN_PER)\n",
    "---\n",
    "\n",
    "Based on works from: [1](https://github.com/udacity/deep-reinforcement-learning), [2](https://github.com/andreidi/DDPG-TD3-PER/blob/master/per.py), [3](https://github.com/muhamuttaqien/AI-Lab/blob/master/deep-learning/reinforcement-learning/deep-q-learning/per-dqn/lunar-lander/pytorch-per-dqn.ipynb), [4](https://github.com/YijiongLin/Udacity_DRL_NanoDegree)\n",
    "\n",
    "#### Import the Necessary Packages"
   ]
  },
  {
   "cell_type": "code",
   "execution_count": 1,
   "metadata": {},
   "outputs": [],
   "source": [
    "import gym, random\n",
    "import numpy as np\n",
    "from collections import namedtuple, deque\n",
    "import matplotlib.pyplot as plt\n",
    "%matplotlib inline\n",
    "\n",
    "import torch\n",
    "import torch.nn as nn\n",
    "import torch.nn.functional as F\n",
    "import torch.optim as optim\n",
    "from torch.autograd import Variable"
   ]
  },
  {
   "cell_type": "code",
   "execution_count": 2,
   "metadata": {},
   "outputs": [],
   "source": [
    "import functools, operator"
   ]
  },
  {
   "cell_type": "markdown",
   "metadata": {},
   "source": [
    "#### Set Configuration"
   ]
  },
  {
   "cell_type": "code",
   "execution_count": 3,
   "metadata": {},
   "outputs": [],
   "source": [
    "BUFFER_SIZE = int(1e5)  # replay buffer size\n",
    "BATCH_SIZE = 64         # minibatch size\n",
    "GAMMA = 0.99            # discount factor\n",
    "TAU = 1e-3              # for soft update of target parameters\n",
    "LR = 5e-4               # learning rate \n",
    "UPDATE_EVERY = 4        # how often to update the network"
   ]
  },
  {
   "cell_type": "code",
   "execution_count": 4,
   "metadata": {},
   "outputs": [],
   "source": [
    "device = torch.device(\"cuda:0\" if torch.cuda.is_available() else \"cpu\")"
   ]
  },
  {
   "cell_type": "code",
   "execution_count": 5,
   "metadata": {},
   "outputs": [
    {
     "data": {
      "text/plain": [
       "device(type='cuda', index=0)"
      ]
     },
     "execution_count": 5,
     "metadata": {},
     "output_type": "execute_result"
    }
   ],
   "source": [
    "device"
   ]
  },
  {
   "cell_type": "markdown",
   "metadata": {},
   "source": [
    "#### Define Q-Network Architecture"
   ]
  },
  {
   "cell_type": "code",
   "execution_count": 6,
   "metadata": {},
   "outputs": [],
   "source": [
    "class Dueling_QNetwork(nn.Module):\n",
    "    \"\"\"Actor (Policy) Model.\"\"\"\n",
    "\n",
    "    def __init__(self, state_size, action_size, seed, fc1_units=64, fc2_units=64):\n",
    "        super(Dueling_QNetwork, self).__init__()\n",
    "        self.seed = torch.manual_seed(seed)\n",
    "        self.fc1 = nn.Linear(state_size, fc1_units)\n",
    "        self.fc2 = nn.Linear(fc1_units, fc2_units)\n",
    "        # value layer\n",
    "        self.fc_vlayer = nn.Linear(fc2_units, 1)\n",
    "        # advantage layer\n",
    "        self.fc_alayer = nn.Linear(fc2_units, action_size)\n",
    "        \n",
    "    \n",
    "    def forward(self, state):\n",
    "        \"\"\"Build a network that maps state -> action values.\"\"\"\n",
    "        x = F.relu(self.fc1(state))\n",
    "        x = F.relu(self.fc2(x))\n",
    "        value = self.fc_vlayer(x)\n",
    "        advantage = self.fc_alayer(x)\n",
    "        advantage_mean = advantage.mean(1).unsqueeze(1)\n",
    "        # Combine the value and advantage streams to final output.\n",
    "        # Normalized a with minus a.mean\n",
    "        Qsa = value + (advantage - advantage_mean)\n",
    "        return Qsa"
   ]
  },
  {
   "cell_type": "markdown",
   "metadata": {},
   "source": [
    "#### Define Prioritized Replay Buffer"
   ]
  },
  {
   "cell_type": "code",
   "execution_count": 7,
   "metadata": {},
   "outputs": [],
   "source": [
    "class NaivePrioritizedReplayBuffer(object):\n",
    "    \"\"\"Fixed-size buffer to store experience tuples.\"\"\"\n",
    "\n",
    "    def __init__(self, buffer_size):\n",
    "        \n",
    "        self.alpha = 0.6                               # this constant controls the prioritization, (0: hard prioritization, 1: uniform sampling)\n",
    "        self.beta = 0.4                                # this constant controls the IS (Importance Sampling constant), (0: hard importance, 1: uniform importance)\n",
    "        self.epsilon = 0.01                              # this constant add small priority to avoid 0 opportunity experience to get taken\n",
    "        self.beta_increment_per_sampling = 0.001\n",
    "        self.absolute_error_upper = 1.                 # clipped abs error\n",
    "        \n",
    "        self.memory = deque(maxlen=buffer_size)  \n",
    "        self.priorities = deque(maxlen=buffer_size)\n",
    "        self.experience = namedtuple(\"Experience\", field_names=[\"state\", \"action\", \"reward\", \"next_state\", \"done\"])\n",
    "    \n",
    "    def add(self, state, action, reward, next_state, done):\n",
    "        \"\"\"Add a new experience to memory.\"\"\"\n",
    "        e = self.experience(state, action, reward, next_state, done)\n",
    "        max_priority = max(self.priorities) if self.memory else 1.0\n",
    "        \n",
    "        self.memory.append(e)\n",
    "        self.priorities.append(max_priority)\n",
    "    \n",
    "    def sample(self):\n",
    "        \"\"\"Randomly sample a batch of experiences from memory.\"\"\"\n",
    "        priorities = np.array(self.priorities, dtype=np.float32)\n",
    "        probs = priorities ** self.alpha\n",
    "        probs/= probs.sum() \n",
    "        \n",
    "        indices = np.random.choice(len(self.memory), BATCH_SIZE, p=probs)\n",
    "        experiences = [self.memory[index] for index in indices]\n",
    "        \n",
    "        self.beta = np.min([1., self.beta + self.beta_increment_per_sampling]) \n",
    "        \n",
    "        total = len(self.memory)\n",
    "        weights = (total * probs[indices]) ** (-self.beta)\n",
    "        weights/= weights.max()\n",
    "        weights = np.array(weights, dtype=np.float32).reshape((-1,1))\n",
    "        \n",
    "        states = torch.from_numpy(np.vstack([e.state for e in experiences if e is not None])).float().to(device)\n",
    "        actions = torch.from_numpy(np.vstack([e.action for e in experiences if e is not None])).long().to(device)\n",
    "        rewards = torch.from_numpy(np.vstack([e.reward for e in experiences if e is not None])).float().to(device)\n",
    "        next_states = torch.from_numpy(np.vstack([e.next_state for e in experiences if e is not None])).float().to(device)\n",
    "        dones = torch.from_numpy(np.vstack([e.done for e in experiences if e is not None]).astype(np.uint8)).float().to(device)\n",
    "        weights = torch.from_numpy(weights).float().to(device)\n",
    "        \n",
    "        return indices, (states, actions, rewards, next_states, dones), weights\n",
    "    \n",
    "    def priority_batch_update(self, batch_indices, batch_priorities):\n",
    "        \"\"\"Update prioritied for every batch.\"\"\"\n",
    "        for idx, prio in zip(batch_indices, batch_priorities):\n",
    "            self.priorities[idx] = np.minimum(prio + 1e-5, 1.)[0]          # find out why the batch prio is in list, for now this should do\n",
    "\n",
    "    def __len__(self):\n",
    "        \"\"\"Return the current size of internal memory.\"\"\"\n",
    "        return len(self.memory)"
   ]
  },
  {
   "cell_type": "code",
   "execution_count": 8,
   "metadata": {},
   "outputs": [],
   "source": [
    "class Agent():\n",
    "    \"\"\"Interacts with and learns from the environment.\"\"\"\n",
    "\n",
    "    def __init__(self, state_size, action_size, seed):\n",
    "        \n",
    "        self.state_size = state_size\n",
    "        self.action_size = action_size\n",
    "        self.seed = random.seed(seed)\n",
    "        \n",
    "        self.memory_size = BUFFER_SIZE\n",
    "        self.discount_factor = 0.99\n",
    "        self.learning_rate = LR\n",
    "        \n",
    "        # Q-Network\n",
    "        self.qnetwork_local = Dueling_QNetwork(state_size, action_size, seed).to(device)              # some call this the expected network\n",
    "        self.qnetwork_target = Dueling_QNetwork(state_size, action_size, seed).to(device)\n",
    "        self.optimizer = optim.Adam(self.qnetwork_local.parameters(), lr=self.learning_rate)\n",
    "        \n",
    "        # Replay memory\n",
    "        self.memory = NaivePrioritizedReplayBuffer(self.memory_size)\n",
    "        # Initialize time step (for updating every UPDATE_EVERY steps)\n",
    "        self.t_step = 0\n",
    "    \n",
    "    \n",
    "    def step(self, state, action, reward, next_state, done):\n",
    "        # Save experience in replay memory\n",
    "        self.memory.add(state, action, reward, next_state, done)\n",
    "        \n",
    "        # Learn every UPDATE_EVERY time steps.\n",
    "        self.t_step = (self.t_step + 1) % UPDATE_EVERY\n",
    "        if self.t_step == 0:\n",
    "            # If enough samples are available in memory, get random subset and learn\n",
    "            if len(self.memory) > BATCH_SIZE:\n",
    "                indices_batch, experience_batch, is_weights = self.memory.sample()\n",
    "                self.learn(indices_batch, experience_batch, is_weights, GAMMA)                \n",
    "    \n",
    "    def act(self, state, eps=0.):\n",
    "        \"\"\"Returns actions for given state as per current policy.\n",
    "        \n",
    "        Params\n",
    "        ======\n",
    "            state (array_like): current state\n",
    "            eps (float): epsilon, for epsilon-greedy action selection\n",
    "        \"\"\"\n",
    "        state = torch.from_numpy(state).float().unsqueeze(0).to(device)\n",
    "        self.qnetwork_local.eval()                      # this change the local net to eval mode\n",
    "        with torch.no_grad():\n",
    "            action_values = self.qnetwork_local(state)\n",
    "        self.qnetwork_local.train()                     # this just return the local net back to train mode\n",
    "\n",
    "        # Epsilon-greedy action selection\n",
    "        if random.random() > eps:\n",
    "            return np.argmax(action_values.cpu().data.numpy())\n",
    "        else:\n",
    "            return random.choice(np.arange(self.action_size))\n",
    "\n",
    "    def learn(self, indices_batch, experience_batch, is_weights, gamma):\n",
    "        \"\"\"Update value parameters using given batch of experience tuples.\"\"\"\n",
    "        \n",
    "        states, actions, rewards, next_states, dones = experience_batch\n",
    "        \n",
    "        #################################################################################################################################################\n",
    "        # Get max predicted Q values (for next states) from target model\n",
    "        qsa_next = self.qnetwork_local(next_states).detach()\n",
    "        _, action_max = qsa_next.max(1)\n",
    "        target_q_next = self.qnetwork_target(next_states).detach().gather(1, action_max.unsqueeze(1))                                   # double dqn part\n",
    "        \n",
    "        \n",
    "        \"\"\"\n",
    "        Vanilla DQN\n",
    "        target_q_next = self.qnetwork_target(next_states).detach().max(1)[0].unsqueeze(1)       # this use epsilon greedy\n",
    "        \"\"\"\n",
    "        #################################################################################################################################################\n",
    "        \n",
    "        # Compute Q targets for current states \n",
    "        target_q = rewards+(gamma*target_q_next*(1-dones))\n",
    "                            \n",
    "        # Get expected Q values from local model\n",
    "        expected_q = self.qnetwork_local(states).gather(1, actions)\n",
    "\n",
    "        # Compute loss using PER concept\n",
    "        loss  = torch.pow((expected_q - target_q), 2) * is_weights        \n",
    "        priorities = loss + self.memory.epsilon\n",
    "        \n",
    "        loss  = torch.mean(loss)\n",
    "        \n",
    "        # Minimize the loss\n",
    "        self.optimizer.zero_grad()\n",
    "        loss.backward()\n",
    "        self.optimizer.step()\n",
    "                            \n",
    "        # Update Buffer Priorities\n",
    "        self.memory.priority_batch_update(indices_batch, priorities.data.cpu().numpy())\n",
    "\n",
    "            \n",
    "        # ------------------- update target network ------------------- #\n",
    "        self.soft_update(self.qnetwork_local, self.qnetwork_target, TAU)\n",
    "        \n",
    "        return loss\n",
    "\n",
    "    def soft_update(self, local_model, target_model, tau):\n",
    "        \"\"\"Soft update model parameters.\n",
    "        θ_target = τ*θ_local + (1 - τ)*θ_target\n",
    "\n",
    "        Params\n",
    "        ======\n",
    "            local_model (PyTorch model): weights will be copied from\n",
    "            target_model (PyTorch model): weights will be copied to\n",
    "            tau (float): interpolation parameter \n",
    "        \"\"\"\n",
    "        for target_param, local_param in zip(target_model.parameters(), local_model.parameters()):\n",
    "            target_param.data.copy_(tau*local_param.data + (1.0-tau)*target_param.data)\n",
    "            "
   ]
  },
  {
   "cell_type": "markdown",
   "metadata": {},
   "source": [
    "#### Instantiate the Environment and Agent"
   ]
  },
  {
   "cell_type": "code",
   "execution_count": 9,
   "metadata": {
    "scrolled": true
   },
   "outputs": [
    {
     "name": "stdout",
     "output_type": "stream",
     "text": [
      "State shape:  (8,)\n",
      "Number of actions:  4\n"
     ]
    }
   ],
   "source": [
    "env = gym.make('LunarLander-v2')\n",
    "env.seed(0)\n",
    "print('State shape: ', env.observation_space.shape)\n",
    "print('Number of actions: ', env.action_space.n)\n",
    "\n",
    "agent = Agent(state_size=8, action_size=4, seed=0)"
   ]
  },
  {
   "cell_type": "markdown",
   "metadata": {},
   "source": [
    "#### Instantiate the Environment and Agent\n",
    "Run the code cell below to train the agent from scratch.  You are welcome to amend the supplied values of the parameters in the function, to try to see if you can get better performance!"
   ]
  },
  {
   "cell_type": "code",
   "execution_count": 10,
   "metadata": {},
   "outputs": [],
   "source": [
    "def dqn_per(n_episodes=2000, max_t=1000, eps_start=1.0, eps_end=0.01, eps_decay=0.995):\n",
    "    \"\"\"Deep Q-Learning with Naive Prioritized Experience Replay.\"\"\"\n",
    "    \n",
    "    scores = []                        # list containing scores from each episode\n",
    "    scores_window = deque(maxlen=100)  # last 100 scores\n",
    "    eps = eps_start                    # initialize epsilon\n",
    "    \n",
    "    for i_episode in range(1, n_episodes+1):\n",
    "        state = env.reset()\n",
    "        score = 0\n",
    "        for t in range(max_t):\n",
    "            action = agent.act(state, eps)\n",
    "            next_state, reward, done, _ = env.step(action)\n",
    "            \n",
    "            agent.step(state, action, reward, next_state, done)\n",
    "            state = next_state\n",
    "            score += reward\n",
    "            if done:\n",
    "                break \n",
    "                \n",
    "        scores_window.append(score)       # save most recent score\n",
    "        scores.append(score)              # save most recent score\n",
    "        eps = max(eps_end, eps_decay*eps) # decrease epsilon\n",
    "        print('\\rEpisode {}\\tAverage Score: {:.2f}'.format(i_episode, np.mean(scores_window)), end=\"\")\n",
    "        if i_episode % 100 == 0:\n",
    "            print('\\rEpisode {}\\tAverage Score: {:.2f}'.format(i_episode, np.mean(scores_window)))\n",
    "        if np.mean(scores_window)>=200.0:\n",
    "            print('\\nEnvironment solved in {:d} episodes!\\tAverage Score: {:.2f}'.format(i_episode-100, np.mean(scores_window)))\n",
    "            torch.save(agent.qnetwork_local.state_dict(), 'checkpoint.pth')\n",
    "            break\n",
    "    return scores"
   ]
  },
  {
   "cell_type": "code",
   "execution_count": 11,
   "metadata": {},
   "outputs": [
    {
     "name": "stdout",
     "output_type": "stream",
     "text": [
      "Episode 100\tAverage Score: -196.75\n",
      "Episode 200\tAverage Score: -118.86\n",
      "Episode 300\tAverage Score: -73.045\n",
      "Episode 400\tAverage Score: 64.543\n",
      "Episode 500\tAverage Score: 154.09\n",
      "Episode 600\tAverage Score: 162.20\n",
      "Episode 700\tAverage Score: 193.08\n",
      "Episode 714\tAverage Score: 200.07\n",
      "Environment solved in 614 episodes!\tAverage Score: 200.07\n"
     ]
    }
   ],
   "source": [
    "# train the agent\n",
    "scores = dqn_per(n_episodes=2000, max_t=1000)"
   ]
  },
  {
   "cell_type": "code",
   "execution_count": 12,
   "metadata": {},
   "outputs": [
    {
     "data": {
      "image/png": "[encoded data removed]",
      "text/plain": [
       "<matplotlib.figure.Figure at 0x7f38728faeb8>"
      ]
     },
     "metadata": {
      "needs_background": "light"
     },
     "output_type": "display_data"
    }
   ],
   "source": [
    "# plot the scores\n",
    "fig = plt.figure()\n",
    "ax = fig.add_subplot(111)\n",
    "plt.plot(np.arange(len(scores)), scores)\n",
    "plt.ylabel('Score')\n",
    "plt.xlabel('Episode #')\n",
    "plt.show()"
   ]
  },
  {
   "cell_type": "markdown",
   "metadata": {},
   "source": [
    "#### Watch a Smart Agent!\n",
    "\n",
    "In the next code cell, you will load the trained weights from file to watch a smart agent!"
   ]
  },
  {
   "cell_type": "code",
   "execution_count": 14,
   "metadata": {},
   "outputs": [],
   "source": [
    "from pyvirtualdisplay import Display\n",
    "import os\n",
    "import io\n",
    "import base64\n",
    "from IPython.display import display, HTML\n",
    "\n",
    "def ipython_show_video(path):\n",
    "    \"\"\"Show a video at `path` within IPython Notebook\n",
    "    \"\"\"\n",
    "    if not os.path.isfile(path):\n",
    "        raise NameError(\"Cannot access: {}\".format(path))\n",
    "\n",
    "    video = io.open(path, 'r+b').read()\n",
    "    encoded = base64.b64encode(video)\n",
    "\n",
    "    display(HTML(\n",
    "        data=\"\"\"\n",
    "        <video alt=\"test\" controls>\n",
    "        <source src=\"data:video/mp4;base64,{0}\" type=\"video/mp4\" />\n",
    "        </video>\n",
    "        \"\"\".format(encoded.decode('ascii'))\n",
    "    ))\n",
    "\n",
    "display = Display(visible=0, size=(1400, 900))\n",
    "display.start()\n",
    "\n",
    "# load the weights from file\n",
    "agent.qnetwork_local.load_state_dict(torch.load('checkpoint.pth'))\n",
    "\n",
    "for i in range(5):\n",
    "    state = env.reset()\n",
    "    for j in range(200):\n",
    "        action = agent.act(state)\n",
    "        env.render()\n",
    "        state, reward, done, _ = env.step(action)\n",
    "        if done:\n",
    "            break \n",
    "            \n",
    "env.close()"
   ]
  },
  {
   "cell_type": "code",
   "execution_count": 20,
   "metadata": {},
   "outputs": [
    {
     "data": {
      "text/html": [
       "\n",
       "        <video alt=\"test\" controls>\n",
       "        <source src=\"data:video/mp4;base64,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\" type=\"video/mp4\" />\n",
       "        </video>\n",
       "        "
      ],
      "text/plain": [
       "<IPython.core.display.HTML object>"
      ]
     },
     "metadata": {},
     "output_type": "display_data"
    }
   ],
   "source": [
    "# display video\n",
    "ipython_show_video(\"/tmp/LunarLander-v2/openaigym.video.0.3287.video000729.mp4\")"
   ]
  }
 ],
 "metadata": {
  "kernelspec": {
   "display_name": "Python 3",
   "language": "python",
   "name": "python3"
  },
  "language_info": {
   "codemirror_mode": {
    "name": "ipython",
    "version": 3
   },
   "file_extension": ".py",
   "mimetype": "text/x-python",
   "name": "python",
   "nbconvert_exporter": "python",
   "pygments_lexer": "ipython3",
   "version": "3.6.7"
  }
 },
 "nbformat": 4,
 "nbformat_minor": 4
}
