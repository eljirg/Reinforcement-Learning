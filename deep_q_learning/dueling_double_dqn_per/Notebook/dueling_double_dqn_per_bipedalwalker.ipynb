{
 "cells": [
  {
   "cell_type": "markdown",
   "metadata": {},
   "source": [
    "## Dueling Double Deep Q-Network With Prioritized Experience Replay (Dueling DQN_PER)\n",
    "---\n",
    "\n",
    "Based on works from: [1](https://github.com/udacity/deep-reinforcement-learning), [2](https://github.com/andreidi/DDPG-TD3-PER/blob/master/per.py), [3](https://github.com/muhamuttaqien/AI-Lab/blob/master/deep-learning/reinforcement-learning/deep-q-learning/per-dqn/lunar-lander/pytorch-per-dqn.ipynb), [4](https://github.com/YijiongLin/Udacity_DRL_NanoDegree)\n",
    "\n",
    "#### Import the Necessary Packages"
   ]
  },
  {
   "cell_type": "code",
   "execution_count": 1,
   "metadata": {},
   "outputs": [],
   "source": [
    "import gym, random\n",
    "import numpy as np\n",
    "from collections import namedtuple, deque\n",
    "import matplotlib.pyplot as plt\n",
    "%matplotlib inline\n",
    "\n",
    "import torch\n",
    "import torch.nn as nn\n",
    "import torch.nn.functional as F\n",
    "import torch.optim as optim\n",
    "from torch.autograd import Variable"
   ]
  },
  {
   "cell_type": "code",
   "execution_count": 2,
   "metadata": {},
   "outputs": [],
   "source": [
    "import functools, operator"
   ]
  },
  {
   "cell_type": "markdown",
   "metadata": {},
   "source": [
    "#### Set Configuration"
   ]
  },
  {
   "cell_type": "code",
   "execution_count": 3,
   "metadata": {},
   "outputs": [],
   "source": [
    "BUFFER_SIZE = int(1e5)  # replay buffer size\n",
    "BATCH_SIZE = 64         # minibatch size\n",
    "GAMMA = 0.99            # discount factor\n",
    "TAU = 1e-3              # for soft update of target parameters\n",
    "LR = 5e-4               # learning rate \n",
    "UPDATE_EVERY = 4        # how often to update the network"
   ]
  },
  {
   "cell_type": "code",
   "execution_count": 4,
   "metadata": {},
   "outputs": [
    {
     "data": {
      "text/plain": [
       "device(type='cuda', index=0)"
      ]
     },
     "execution_count": 4,
     "metadata": {},
     "output_type": "execute_result"
    }
   ],
   "source": [
    "device = torch.device(\"cuda:0\" if torch.cuda.is_available() else \"cpu\")\n",
    "device"
   ]
  },
  {
   "cell_type": "markdown",
   "metadata": {},
   "source": [
    "#### Define Q-Network Architecture"
   ]
  },
  {
   "cell_type": "code",
   "execution_count": 5,
   "metadata": {},
   "outputs": [],
   "source": [
    "class Dueling_QNetwork(nn.Module):\n",
    "    \"\"\"Actor (Policy) Model.\"\"\"\n",
    "\n",
    "    def __init__(self, state_size, action_size, seed, fc1_units=64, fc2_units=64):\n",
    "        super(Dueling_QNetwork, self).__init__()\n",
    "        self.seed = torch.manual_seed(seed)\n",
    "        self.fc1 = nn.Linear(state_size, fc1_units)\n",
    "        self.fc2 = nn.Linear(fc1_units, fc2_units)\n",
    "        # value layer\n",
    "        self.fc_vlayer = nn.Linear(fc2_units, 1)\n",
    "        # advantage layer\n",
    "        self.fc_alayer = nn.Linear(fc2_units, action_size)\n",
    "        \n",
    "    \n",
    "    def forward(self, state):\n",
    "        \"\"\"Build a network that maps state -> action values.\"\"\"\n",
    "        x = F.relu(self.fc1(state))\n",
    "        x = F.relu(self.fc2(x))\n",
    "        value = self.fc_vlayer(x)\n",
    "        advantage = self.fc_alayer(x)\n",
    "        advantage_mean = advantage.mean(1).unsqueeze(1)\n",
    "        # Combine the value and advantage streams to final output.\n",
    "        # Normalized a with minus a.mean\n",
    "        Qsa = value + (advantage - advantage_mean)\n",
    "        return Qsa"
   ]
  },
  {
   "cell_type": "markdown",
   "metadata": {},
   "source": [
    "#### Define Prioritized Replay Buffer"
   ]
  },
  {
   "cell_type": "code",
   "execution_count": 6,
   "metadata": {},
   "outputs": [],
   "source": [
    "class NaivePrioritizedReplayBuffer(object):\n",
    "    \"\"\"Fixed-size buffer to store experience tuples.\"\"\"\n",
    "\n",
    "    def __init__(self, buffer_size):\n",
    "        \n",
    "        self.alpha = 0.6                               # this constant controls the prioritization, (0: hard prioritization, 1: uniform sampling)\n",
    "        self.beta = 0.4                                # this constant controls the IS (Importance Sampling constant), (0: hard importance, 1: uniform importance)\n",
    "        self.epsilon = 0.01                              # this constant add small priority to avoid 0 opportunity experience to get taken\n",
    "        self.beta_increment_per_sampling = 0.001\n",
    "        self.absolute_error_upper = 1.                 # clipped abs error\n",
    "        \n",
    "        self.memory = deque(maxlen=buffer_size)  \n",
    "        self.priorities = deque(maxlen=buffer_size)\n",
    "        self.experience = namedtuple(\"Experience\", field_names=[\"state\", \"action\", \"reward\", \"next_state\", \"done\"])\n",
    "    \n",
    "    def add(self, state, action, reward, next_state, done):\n",
    "        \"\"\"Add a new experience to memory.\"\"\"\n",
    "        e = self.experience(state, action, reward, next_state, done)\n",
    "        max_priority = max(self.priorities) if self.memory else 1.0\n",
    "        \n",
    "        self.memory.append(e)\n",
    "        self.priorities.append(max_priority)\n",
    "    \n",
    "    def sample(self):\n",
    "        \"\"\"Randomly sample a batch of experiences from memory.\"\"\"\n",
    "        priorities = np.array(self.priorities, dtype=np.float32)\n",
    "        probs = priorities ** self.alpha\n",
    "        probs/= probs.sum() \n",
    "        \n",
    "        indices = np.random.choice(len(self.memory), BATCH_SIZE, p=probs)\n",
    "        experiences = [self.memory[index] for index in indices]\n",
    "        \n",
    "        self.beta = np.min([1., self.beta + self.beta_increment_per_sampling]) \n",
    "        \n",
    "        total = len(self.memory)\n",
    "        weights = (total * probs[indices]) ** (-self.beta)\n",
    "        weights/= weights.max()\n",
    "        weights = np.array(weights, dtype=np.float32).reshape((-1,1))\n",
    "        \n",
    "        states = torch.from_numpy(np.vstack([e.state for e in experiences if e is not None])).float().to(device)\n",
    "        actions = torch.from_numpy(np.vstack([e.action for e in experiences if e is not None])).long().to(device)\n",
    "        rewards = torch.from_numpy(np.vstack([e.reward for e in experiences if e is not None])).float().to(device)\n",
    "        next_states = torch.from_numpy(np.vstack([e.next_state for e in experiences if e is not None])).float().to(device)\n",
    "        dones = torch.from_numpy(np.vstack([e.done for e in experiences if e is not None]).astype(np.uint8)).float().to(device)\n",
    "        weights = torch.from_numpy(weights).float().to(device)\n",
    "        \n",
    "        return indices, (states, actions, rewards, next_states, dones), weights\n",
    "    \n",
    "    def priority_batch_update(self, batch_indices, batch_priorities):\n",
    "        \"\"\"Update prioritied for every batch.\"\"\"\n",
    "        for idx, prio in zip(batch_indices, batch_priorities):\n",
    "            self.priorities[idx] = np.minimum(prio + 1e-5, 1.)[0]          # find out why the batch prio is in list, for now this should do\n",
    "\n",
    "    def __len__(self):\n",
    "        \"\"\"Return the current size of internal memory.\"\"\"\n",
    "        return len(self.memory)"
   ]
  },
  {
   "cell_type": "code",
   "execution_count": 7,
   "metadata": {},
   "outputs": [],
   "source": [
    "class Agent():\n",
    "    \"\"\"Interacts with and learns from the environment.\"\"\"\n",
    "\n",
    "    def __init__(self, state_size, action_size, seed):\n",
    "        \n",
    "        self.state_size = state_size\n",
    "        self.action_size = action_size\n",
    "        self.seed = random.seed(seed)\n",
    "        \n",
    "        self.memory_size = BUFFER_SIZE\n",
    "        self.discount_factor = 0.99\n",
    "        self.learning_rate = LR\n",
    "        \n",
    "        # Q-Network\n",
    "        self.qnetwork_local = Dueling_QNetwork(state_size, action_size, seed).to(device)              # some call this the expected network\n",
    "        self.qnetwork_target = Dueling_QNetwork(state_size, action_size, seed).to(device)\n",
    "        self.optimizer = optim.Adam(self.qnetwork_local.parameters(), lr=self.learning_rate)\n",
    "        \n",
    "        # Replay memory\n",
    "        self.memory = NaivePrioritizedReplayBuffer(self.memory_size)\n",
    "        # Initialize time step (for updating every UPDATE_EVERY steps)\n",
    "        self.t_step = 0\n",
    "    \n",
    "    \n",
    "    def step(self, state, action, reward, next_state, done):\n",
    "        # Save experience in replay memory\n",
    "        self.memory.add(state, action, reward, next_state, done)\n",
    "        \n",
    "        # Learn every UPDATE_EVERY time steps.\n",
    "        self.t_step = (self.t_step + 1) % UPDATE_EVERY\n",
    "        if self.t_step == 0:\n",
    "            # If enough samples are available in memory, get random subset and learn\n",
    "            if len(self.memory) > BATCH_SIZE:\n",
    "                indices_batch, experience_batch, is_weights = self.memory.sample()\n",
    "                self.learn(indices_batch, experience_batch, is_weights, GAMMA)                \n",
    "    \n",
    "    def act(self, state, eps=0.):\n",
    "        \"\"\"Returns actions for given state as per current policy.\n",
    "        \n",
    "        Params\n",
    "        ======\n",
    "            state (array_like): current state\n",
    "            eps (float): epsilon, for epsilon-greedy action selection\n",
    "        \"\"\"\n",
    "        state = torch.from_numpy(state).float().unsqueeze(0).to(device)\n",
    "        self.qnetwork_local.eval()                      # this change the local net to eval mode\n",
    "        with torch.no_grad():\n",
    "            action_values = self.qnetwork_local(state)\n",
    "        self.qnetwork_local.train()                     # this just return the local net back to train mode\n",
    "\n",
    "        # Epsilon-greedy action selection\n",
    "        if random.random() > eps:\n",
    "            return np.argmax(action_values.cpu().data.numpy())\n",
    "        else:\n",
    "            return random.choice(np.arange(self.action_size))\n",
    "\n",
    "    def learn(self, indices_batch, experience_batch, is_weights, gamma):\n",
    "        \"\"\"Update value parameters using given batch of experience tuples.\"\"\"\n",
    "        \n",
    "        states, actions, rewards, next_states, dones = experience_batch\n",
    "        \n",
    "        #################################################################################################################################################\n",
    "        # Get max predicted Q values (for next states) from target model\n",
    "        qsa_next = self.qnetwork_local(next_states).detach()\n",
    "        _, action_max = qsa_next.max(1)\n",
    "        target_q_next = self.qnetwork_target(next_states).detach().gather(1, action_max.unsqueeze(1))                                   # double dqn part\n",
    "        \n",
    "        \n",
    "        \"\"\"\n",
    "        Vanilla DQN\n",
    "        target_q_next = self.qnetwork_target(next_states).detach().max(1)[0].unsqueeze(1)       # this use epsilon greedy\n",
    "        \"\"\"\n",
    "        #################################################################################################################################################\n",
    "        \n",
    "        # Compute Q targets for current states \n",
    "        target_q = rewards+(gamma*target_q_next*(1-dones))\n",
    "                            \n",
    "        # Get expected Q values from local model\n",
    "        expected_q = self.qnetwork_local(states).gather(1, actions)\n",
    "\n",
    "        # Compute loss using PER concept\n",
    "        loss  = torch.pow((expected_q - target_q), 2) * is_weights        \n",
    "        priorities = loss + self.memory.epsilon\n",
    "        \n",
    "        loss  = torch.mean(loss)\n",
    "        \n",
    "        # Minimize the loss\n",
    "        self.optimizer.zero_grad()\n",
    "        loss.backward()\n",
    "        self.optimizer.step()\n",
    "                            \n",
    "        # Update Buffer Priorities\n",
    "        self.memory.priority_batch_update(indices_batch, priorities.data.cpu().numpy())\n",
    "\n",
    "            \n",
    "        # ------------------- update target network ------------------- #\n",
    "        self.soft_update(self.qnetwork_local, self.qnetwork_target, TAU)\n",
    "        \n",
    "        return loss\n",
    "\n",
    "    def soft_update(self, local_model, target_model, tau):\n",
    "        \"\"\"Soft update model parameters.\n",
    "        θ_target = τ*θ_local + (1 - τ)*θ_target\n",
    "\n",
    "        Params\n",
    "        ======\n",
    "            local_model (PyTorch model): weights will be copied from\n",
    "            target_model (PyTorch model): weights will be copied to\n",
    "            tau (float): interpolation parameter \n",
    "        \"\"\"\n",
    "        for target_param, local_param in zip(target_model.parameters(), local_model.parameters()):\n",
    "            target_param.data.copy_(tau*local_param.data + (1.0-tau)*target_param.data)\n",
    "            "
   ]
  },
  {
   "cell_type": "markdown",
   "metadata": {},
   "source": [
    "#### Instantiate the Environment and Agent"
   ]
  },
  {
   "cell_type": "code",
   "execution_count": 8,
   "metadata": {
    "scrolled": true
   },
   "outputs": [
    {
     "name": "stdout",
     "output_type": "stream",
     "text": [
      "State shape:  (24,)\n",
      "Number of actions:  (4,)\n"
     ]
    }
   ],
   "source": [
    "env = gym.make('BipedalWalker-v2')\n",
    "env.seed(0)\n",
    "print('State shape: ', env.observation_space.shape)\n",
    "print('Number of actions: ', env.action_space.shape)\n",
    "\n",
    "agent = Agent(state_size=24, action_size=4, seed=0)"
   ]
  },
  {
   "cell_type": "code",
   "execution_count": null,
   "metadata": {},
   "outputs": [],
   "source": []
  },
  {
   "cell_type": "markdown",
   "metadata": {},
   "source": [
    "# DQN IS FOR DISCRETE PROBLEM! BIPEDAL IS CONTINUOUS"
   ]
  },
  {
   "cell_type": "code",
   "execution_count": null,
   "metadata": {},
   "outputs": [],
   "source": []
  },
  {
   "cell_type": "markdown",
   "metadata": {},
   "source": [
    "#### Instantiate the Environment and Agent\n",
    "Run the code cell below to train the agent from scratch.  You are welcome to amend the supplied values of the parameters in the function, to try to see if you can get better performance!"
   ]
  },
  {
   "cell_type": "code",
   "execution_count": 9,
   "metadata": {},
   "outputs": [],
   "source": [
    "def dqn_per(n_episodes=2000, max_t=1000, eps_start=1.0, eps_end=0.01, eps_decay=0.995):\n",
    "    \"\"\"Deep Q-Learning with Naive Prioritized Experience Replay.\"\"\"\n",
    "    \n",
    "    scores = []                        # list containing scores from each episode\n",
    "    scores_window = deque(maxlen=100)  # last 100 scores\n",
    "    eps = eps_start                    # initialize epsilon\n",
    "    \n",
    "    for i_episode in range(1, n_episodes+1):\n",
    "        state = env.reset()\n",
    "        score = 0\n",
    "        for t in range(max_t):\n",
    "            action = agent.act(state, eps)\n",
    "            next_state, reward, done, _ = env.step(action)\n",
    "            \n",
    "            agent.step(state, action, reward, next_state, done)\n",
    "            state = next_state\n",
    "            score += reward\n",
    "            if done:\n",
    "                break \n",
    "                \n",
    "        scores_window.append(score)       # save most recent score\n",
    "        scores.append(score)              # save most recent score\n",
    "        eps = max(eps_end, eps_decay*eps) # decrease epsilon\n",
    "        print('\\rEpisode {}\\tAverage Score: {:.2f}'.format(i_episode, np.mean(scores_window)), end=\"\")\n",
    "        if i_episode % 100 == 0:\n",
    "            print('\\rEpisode {}\\tAverage Score: {:.2f}'.format(i_episode, np.mean(scores_window)))\n",
    "        if np.mean(scores_window)>=200.0:\n",
    "            print('\\nEnvironment solved in {:d} episodes!\\tAverage Score: {:.2f}'.format(i_episode-100, np.mean(scores_window)))\n",
    "            torch.save(agent.qnetwork_local.state_dict(), 'checkpoint.pth')\n",
    "            break\n",
    "    return scores"
   ]
  },
  {
   "cell_type": "code",
   "execution_count": null,
   "metadata": {},
   "outputs": [],
   "source": [
    "# train the agent\n",
    "scores = dqn_per(n_episodes=2000, max_t=1000)"
   ]
  },
  {
   "cell_type": "code",
   "execution_count": null,
   "metadata": {},
   "outputs": [],
   "source": [
    "# plot the scores\n",
    "fig = plt.figure()\n",
    "ax = fig.add_subplot(111)\n",
    "plt.plot(np.arange(len(scores)), scores)\n",
    "plt.ylabel('Score')\n",
    "plt.xlabel('Episode #')\n",
    "plt.show()"
   ]
  },
  {
   "cell_type": "markdown",
   "metadata": {},
   "source": [
    "#### Watch a Smart Agent!\n",
    "\n",
    "In the next code cell, you will load the trained weights from file to watch a smart agent!"
   ]
  },
  {
   "cell_type": "code",
   "execution_count": null,
   "metadata": {},
   "outputs": [],
   "source": [
    "from pyvirtualdisplay import Display\n",
    "import os\n",
    "import io\n",
    "import base64\n",
    "from IPython.display import display, HTML\n",
    "\n",
    "def ipython_show_video(path):\n",
    "    \"\"\"Show a video at `path` within IPython Notebook\n",
    "    \"\"\"\n",
    "    if not os.path.isfile(path):\n",
    "        raise NameError(\"Cannot access: {}\".format(path))\n",
    "\n",
    "    video = io.open(path, 'r+b').read()\n",
    "    encoded = base64.b64encode(video)\n",
    "\n",
    "    display(HTML(\n",
    "        data=\"\"\"\n",
    "        <video alt=\"test\" controls>\n",
    "        <source src=\"data:video/mp4;base64,{0}\" type=\"video/mp4\" />\n",
    "        </video>\n",
    "        \"\"\".format(encoded.decode('ascii'))\n",
    "    ))\n",
    "\n",
    "display = Display(visible=0, size=(1400, 900))\n",
    "display.start()\n",
    "\n",
    "# load the weights from file\n",
    "agent.qnetwork_local.load_state_dict(torch.load('checkpoint.pth'))\n",
    "\n",
    "for i in range(5):\n",
    "    state = env.reset()\n",
    "    for j in range(200):\n",
    "        action = agent.act(state)\n",
    "        env.render()\n",
    "        state, reward, done, _ = env.step(action)\n",
    "        if done:\n",
    "            break \n",
    "            \n",
    "env.close()"
   ]
  },
  {
   "cell_type": "code",
   "execution_count": null,
   "metadata": {},
   "outputs": [],
   "source": [
    "# display video\n",
    "video = [f'/tmp/BipedalWalker-v2/{i}' for i in os.listdir('/tmp/BipedalWalker-v2/')][0]\n",
    "ipython_show_video(video)"
   ]
  }
 ],
 "metadata": {
  "kernelspec": {
   "display_name": "Python 3 (pytorch)",
   "language": "python",
   "name": "pytorch"
  },
  "language_info": {
   "codemirror_mode": {
    "name": "ipython",
    "version": 3
   },
   "file_extension": ".py",
   "mimetype": "text/x-python",
   "name": "python",
   "nbconvert_exporter": "python",
   "pygments_lexer": "ipython3",
   "version": "3.6.7"
  }
 },
 "nbformat": 4,
 "nbformat_minor": 4
}
