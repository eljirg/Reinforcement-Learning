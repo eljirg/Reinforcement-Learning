{
 "cells": [
  {
   "cell_type": "markdown",
   "metadata": {},
   "source": [
    "# Check Source:\n",
    "\n",
    "- https://github.com/rlcode/reinforcement-learning/tree/master/1-grid-world\n",
    "- https://github.com/dennybritz/reinforcement-learning\n",
    "- https://github.com/Neo-47/Reinforcement-Learning-Algorithms/tree/master/Dynamic%20Programming"
   ]
  },
  {
   "cell_type": "code",
   "execution_count": 9,
   "metadata": {},
   "outputs": [],
   "source": [
    "import os,copy\n",
    "import numpy as np\n",
    "from gridworld import GridworldEnv\n",
    "from plot_utils import plot_values\n",
    "\n",
    "env = GridworldEnv()"
   ]
  },
  {
   "cell_type": "code",
   "execution_count": 10,
   "metadata": {},
   "outputs": [
    {
     "name": "stdout",
     "output_type": "stream",
     "text": [
      "state space: Discrete(16)\n",
      "Action_space: Discrete(4)\n",
      "total number of states: 16\n",
      "total number of actions: 4\n"
     ]
    }
   ],
   "source": [
    "# print the state space and action space, total number of states and actions\n",
    "print(f'state space: {env.observation_space}')\n",
    "print(f'Action_space: {env.action_space}')\n",
    "print(f'total number of states: {env.nS}')\n",
    "print(f'total number of actions: {env.nA}')"
   ]
  },
  {
   "cell_type": "code",
   "execution_count": 11,
   "metadata": {},
   "outputs": [
    {
     "data": {
      "text/plain": [
       "(1.0, 1, -1.0, False)"
      ]
     },
     "execution_count": 11,
     "metadata": {},
     "output_type": "execute_result"
    }
   ],
   "source": [
    "# looking at one-step dynamics of the Markov decision process (MDP)\n",
    "prob, next_state, reward, done = env.P[1][0][0] \n",
    "prob, next_state, reward, done"
   ]
  },
  {
   "cell_type": "code",
   "execution_count": 12,
   "metadata": {},
   "outputs": [],
   "source": [
    "def policy_evaluation(env, policy, gamma=1, theta=1e-8):\n",
    "    V = np.zeros(env.nS)\n",
    "    while True:\n",
    "        delta = 0\n",
    "        for s in range(env.nS):                                                  # loop for every state\n",
    "            Vs = 0\n",
    "            for a, action_prob in enumerate(policy[s]):                          # loop for every action\n",
    "                for prob, next_state, reward, done in env.P[s][a]:               # loop for every probability of each possible reward and next state \n",
    "                    Vs += action_prob * prob * (reward + gamma * V[next_state])  # calculate Vscore\n",
    "            delta = max(delta, np.abs(V[s]-Vs))                                  # calculate delta\n",
    "            V[s] = Vs                                                            # update state-value ?? based on what ??\n",
    "        if delta < theta:                                                        # check process, if all state has been optimized (small delta, than)\n",
    "            break\n",
    "    return V                                                                     # look for that video that show the gradual change"
   ]
  },
  {
   "cell_type": "code",
   "execution_count": 13,
   "metadata": {},
   "outputs": [],
   "source": [
    "# set random policy\n",
    "random_policy = np.ones([env.nS, env.nA]) / env.nA # equal prob on all"
   ]
  },
  {
   "cell_type": "code",
   "execution_count": 14,
   "metadata": {},
   "outputs": [
    {
     "data": {
      "image/png": "[encoded data removed]",
      "text/plain": [
       "<Figure size 432x432 with 1 Axes>"
      ]
     },
     "metadata": {},
     "output_type": "display_data"
    }
   ],
   "source": [
    "# evaluate the policy \n",
    "V = policy_evaluation(env, random_policy)\n",
    "plot_values(V)"
   ]
  },
  {
   "cell_type": "code",
   "execution_count": null,
   "metadata": {},
   "outputs": [],
   "source": []
  }
 ],
 "metadata": {
  "kernelspec": {
   "display_name": "Python 3",
   "language": "python",
   "name": "python3"
  },
  "language_info": {
   "codemirror_mode": {
    "name": "ipython",
    "version": 3
   },
   "file_extension": ".py",
   "mimetype": "text/x-python",
   "name": "python",
   "nbconvert_exporter": "python",
   "pygments_lexer": "ipython3",
   "version": "3.7.4"
  }
 },
 "nbformat": 4,
 "nbformat_minor": 2
}
