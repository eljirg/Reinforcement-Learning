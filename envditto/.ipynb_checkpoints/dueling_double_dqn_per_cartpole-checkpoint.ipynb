{
 "cells": [
  {
   "cell_type": "markdown",
   "metadata": {},
   "source": [
    "## Dueling Double Deep Q-Network With Prioritized Experience Replay (Dueling DQN_PER)\n",
    "---\n",
    "\n",
    "Based on works from: [1](https://github.com/udacity/deep-reinforcement-learning), [2](https://github.com/andreidi/DDPG-TD3-PER/blob/master/per.py), [3](https://github.com/muhamuttaqien/AI-Lab/blob/master/deep-learning/reinforcement-learning/deep-q-learning/per-dqn/lunar-lander/pytorch-per-dqn.ipynb), [4](https://github.com/YijiongLin/Udacity_DRL_NanoDegree)\n",
    "\n",
    "#### Import the Necessary Packages"
   ]
  },
  {
   "cell_type": "code",
   "execution_count": 1,
   "metadata": {},
   "outputs": [],
   "source": [
    "import gym, random\n",
    "import numpy as np\n",
    "from collections import namedtuple, deque\n",
    "import matplotlib.pyplot as plt\n",
    "%matplotlib inline\n",
    "\n",
    "import torch\n",
    "import torch.nn as nn\n",
    "import torch.nn.functional as F\n",
    "import torch.optim as optim\n",
    "from torch.autograd import Variable"
   ]
  },
  {
   "cell_type": "code",
   "execution_count": 2,
   "metadata": {},
   "outputs": [],
   "source": [
    "import functools, operator"
   ]
  },
  {
   "cell_type": "markdown",
   "metadata": {},
   "source": [
    "#### Set Configuration"
   ]
  },
  {
   "cell_type": "code",
   "execution_count": 3,
   "metadata": {},
   "outputs": [],
   "source": [
    "BUFFER_SIZE = int(1e5)  # replay buffer size\n",
    "BATCH_SIZE = 64         # minibatch size\n",
    "GAMMA = 0.99            # discount factor\n",
    "TAU = 1e-3              # for soft update of target parameters\n",
    "LR = 5e-4               # learning rate \n",
    "UPDATE_EVERY = 4        # how often to update the network"
   ]
  },
  {
   "cell_type": "code",
   "execution_count": 4,
   "metadata": {},
   "outputs": [],
   "source": [
    "device = torch.device(\"cuda:0\" if torch.cuda.is_available() else \"cpu\")"
   ]
  },
  {
   "cell_type": "code",
   "execution_count": 5,
   "metadata": {},
   "outputs": [
    {
     "data": {
      "text/plain": [
       "device(type='cuda', index=0)"
      ]
     },
     "execution_count": 5,
     "metadata": {},
     "output_type": "execute_result"
    }
   ],
   "source": [
    "device"
   ]
  },
  {
   "cell_type": "markdown",
   "metadata": {},
   "source": [
    "#### Define Q-Network Architecture"
   ]
  },
  {
   "cell_type": "code",
   "execution_count": 6,
   "metadata": {},
   "outputs": [],
   "source": [
    "class Dueling_QNetwork(nn.Module):\n",
    "    \"\"\"Actor (Policy) Model.\"\"\"\n",
    "\n",
    "    def __init__(self, state_size, action_size, seed, fc1_units=64, fc2_units=64):\n",
    "        super(Dueling_QNetwork, self).__init__()\n",
    "        self.seed = torch.manual_seed(seed)\n",
    "        self.fc1 = nn.Linear(state_size, fc1_units)\n",
    "        self.fc2 = nn.Linear(fc1_units, fc2_units)\n",
    "        # value layer\n",
    "        self.fc_vlayer = nn.Linear(fc2_units, 1)\n",
    "        # advantage layer\n",
    "        self.fc_alayer = nn.Linear(fc2_units, action_size)\n",
    "        \n",
    "    \n",
    "    def forward(self, state):\n",
    "        \"\"\"Build a network that maps state -> action values.\"\"\"\n",
    "        x = F.relu(self.fc1(state))\n",
    "        x = F.relu(self.fc2(x))\n",
    "        value = self.fc_vlayer(x)\n",
    "        advantage = self.fc_alayer(x)\n",
    "        advantage_mean = advantage.mean(1).unsqueeze(1)\n",
    "        # Combine the value and advantage streams to final output.\n",
    "        # Normalized a with minus a.mean\n",
    "        Qsa = value + (advantage - advantage_mean)\n",
    "        return Qsa"
   ]
  },
  {
   "cell_type": "markdown",
   "metadata": {},
   "source": [
    "#### Define Prioritized Replay Buffer"
   ]
  },
  {
   "cell_type": "code",
   "execution_count": 7,
   "metadata": {},
   "outputs": [],
   "source": [
    "class NaivePrioritizedReplayBuffer(object):\n",
    "    \"\"\"Fixed-size buffer to store experience tuples.\"\"\"\n",
    "\n",
    "    def __init__(self, buffer_size):\n",
    "        \n",
    "        self.alpha = 0.6                               # this constant controls the prioritization, (0: hard prioritization, 1: uniform sampling)\n",
    "        self.beta = 0.4                                # this constant controls the IS (Importance Sampling constant), (0: hard importance, 1: uniform importance)\n",
    "        self.epsilon = 0.01                              # this constant add small priority to avoid 0 opportunity experience to get taken\n",
    "        self.beta_increment_per_sampling = 0.001\n",
    "        self.absolute_error_upper = 1.                 # clipped abs error\n",
    "        \n",
    "        self.memory = deque(maxlen=buffer_size)  \n",
    "        self.priorities = deque(maxlen=buffer_size)\n",
    "        self.experience = namedtuple(\"Experience\", field_names=[\"state\", \"action\", \"reward\", \"next_state\", \"done\"])\n",
    "    \n",
    "    def add(self, state, action, reward, next_state, done):\n",
    "        \"\"\"Add a new experience to memory.\"\"\"\n",
    "        e = self.experience(state, action, reward, next_state, done)\n",
    "        max_priority = max(self.priorities) if self.memory else 1.0\n",
    "        \n",
    "        self.memory.append(e)\n",
    "        self.priorities.append(max_priority)\n",
    "    \n",
    "    def sample(self):\n",
    "        \"\"\"Randomly sample a batch of experiences from memory.\"\"\"\n",
    "        priorities = np.array(self.priorities, dtype=np.float32)\n",
    "        probs = priorities ** self.alpha\n",
    "        probs/= probs.sum() \n",
    "        \n",
    "        indices = np.random.choice(len(self.memory), BATCH_SIZE, p=probs)\n",
    "        experiences = [self.memory[index] for index in indices]\n",
    "        \n",
    "        self.beta = np.min([1., self.beta + self.beta_increment_per_sampling]) \n",
    "        \n",
    "        total = len(self.memory)\n",
    "        weights = (total * probs[indices]) ** (-self.beta)\n",
    "        weights/= weights.max()\n",
    "        weights = np.array(weights, dtype=np.float32).reshape((-1,1))\n",
    "        \n",
    "        states = torch.from_numpy(np.vstack([e.state for e in experiences if e is not None])).float().to(device)\n",
    "        actions = torch.from_numpy(np.vstack([e.action for e in experiences if e is not None])).long().to(device)\n",
    "        rewards = torch.from_numpy(np.vstack([e.reward for e in experiences if e is not None])).float().to(device)\n",
    "        next_states = torch.from_numpy(np.vstack([e.next_state for e in experiences if e is not None])).float().to(device)\n",
    "        dones = torch.from_numpy(np.vstack([e.done for e in experiences if e is not None]).astype(np.uint8)).float().to(device)\n",
    "        weights = torch.from_numpy(weights).float().to(device)\n",
    "        \n",
    "        return indices, (states, actions, rewards, next_states, dones), weights\n",
    "    \n",
    "    def priority_batch_update(self, batch_indices, batch_priorities):\n",
    "        \"\"\"Update prioritied for every batch.\"\"\"\n",
    "        for idx, prio in zip(batch_indices, batch_priorities):\n",
    "            self.priorities[idx] = np.minimum(prio + 1e-5, 1.)[0]          # find out why the batch prio is in list, for now this should do\n",
    "\n",
    "    def __len__(self):\n",
    "        \"\"\"Return the current size of internal memory.\"\"\"\n",
    "        return len(self.memory)"
   ]
  },
  {
   "cell_type": "code",
   "execution_count": 8,
   "metadata": {},
   "outputs": [],
   "source": [
    "class Agent():\n",
    "    \"\"\"Interacts with and learns from the environment.\"\"\"\n",
    "\n",
    "    def __init__(self, state_size, action_size, seed):\n",
    "        \n",
    "        self.state_size = state_size\n",
    "        self.action_size = action_size\n",
    "        self.seed = random.seed(seed)\n",
    "        \n",
    "        self.memory_size = BUFFER_SIZE\n",
    "        self.discount_factor = 0.99\n",
    "        self.learning_rate = LR\n",
    "        \n",
    "        # Q-Network\n",
    "        self.qnetwork_local = Dueling_QNetwork(state_size, action_size, seed).to(device)              # some call this the expected network\n",
    "        self.qnetwork_target = Dueling_QNetwork(state_size, action_size, seed).to(device)\n",
    "        self.optimizer = optim.Adam(self.qnetwork_local.parameters(), lr=self.learning_rate)\n",
    "        \n",
    "        # Replay memory\n",
    "        self.memory = NaivePrioritizedReplayBuffer(self.memory_size)\n",
    "        # Initialize time step (for updating every UPDATE_EVERY steps)\n",
    "        self.t_step = 0\n",
    "    \n",
    "    \n",
    "    def step(self, state, action, reward, next_state, done):\n",
    "        # Save experience in replay memory\n",
    "        self.memory.add(state, action, reward, next_state, done)\n",
    "        \n",
    "        # Learn every UPDATE_EVERY time steps.\n",
    "        self.t_step = (self.t_step + 1) % UPDATE_EVERY\n",
    "        if self.t_step == 0:\n",
    "            # If enough samples are available in memory, get random subset and learn\n",
    "            if len(self.memory) > BATCH_SIZE:\n",
    "                indices_batch, experience_batch, is_weights = self.memory.sample()\n",
    "                self.learn(indices_batch, experience_batch, is_weights, GAMMA)                \n",
    "    \n",
    "    def act(self, state, eps=0.):\n",
    "        \"\"\"Returns actions for given state as per current policy.\n",
    "        \n",
    "        Params\n",
    "        ======\n",
    "            state (array_like): current state\n",
    "            eps (float): epsilon, for epsilon-greedy action selection\n",
    "        \"\"\"\n",
    "        state = torch.from_numpy(state).float().unsqueeze(0).to(device)\n",
    "        self.qnetwork_local.eval()                      # this change the local net to eval mode\n",
    "        with torch.no_grad():\n",
    "            action_values = self.qnetwork_local(state)\n",
    "        self.qnetwork_local.train()                     # this just return the local net back to train mode\n",
    "\n",
    "        # Epsilon-greedy action selection\n",
    "        if random.random() > eps:\n",
    "            return np.argmax(action_values.cpu().data.numpy())\n",
    "        else:\n",
    "            return random.choice(np.arange(self.action_size))\n",
    "\n",
    "    def learn(self, indices_batch, experience_batch, is_weights, gamma):\n",
    "        \"\"\"Update value parameters using given batch of experience tuples.\"\"\"\n",
    "        \n",
    "        states, actions, rewards, next_states, dones = experience_batch\n",
    "        \n",
    "        #################################################################################################################################################\n",
    "        # Get max predicted Q values (for next states) from target model\n",
    "        qsa_next = self.qnetwork_local(next_states).detach()\n",
    "        _, action_max = qsa_next.max(1)\n",
    "        target_q_next = self.qnetwork_target(next_states).detach().gather(1, action_max.unsqueeze(1))                                   # double dqn part\n",
    "        \n",
    "        \n",
    "        \"\"\"\n",
    "        Vanilla DQN\n",
    "        target_q_next = self.qnetwork_target(next_states).detach().max(1)[0].unsqueeze(1)       # this use epsilon greedy\n",
    "        \"\"\"\n",
    "        #################################################################################################################################################\n",
    "        \n",
    "        # Compute Q targets for current states \n",
    "        target_q = rewards+(gamma*target_q_next*(1-dones))\n",
    "                            \n",
    "        # Get expected Q values from local model\n",
    "        expected_q = self.qnetwork_local(states).gather(1, actions)\n",
    "\n",
    "        # Compute loss using PER concept\n",
    "        loss  = torch.pow((expected_q - target_q), 2) * is_weights        \n",
    "        priorities = loss + self.memory.epsilon\n",
    "        \n",
    "        loss  = torch.mean(loss)\n",
    "        \n",
    "        # Minimize the loss\n",
    "        self.optimizer.zero_grad()\n",
    "        loss.backward()\n",
    "        self.optimizer.step()\n",
    "                            \n",
    "        # Update Buffer Priorities\n",
    "        self.memory.priority_batch_update(indices_batch, priorities.data.cpu().numpy())\n",
    "\n",
    "            \n",
    "        # ------------------- update target network ------------------- #\n",
    "        self.soft_update(self.qnetwork_local, self.qnetwork_target, TAU)\n",
    "        \n",
    "        return loss\n",
    "\n",
    "    def soft_update(self, local_model, target_model, tau):\n",
    "        \"\"\"Soft update model parameters.\n",
    "        θ_target = τ*θ_local + (1 - τ)*θ_target\n",
    "\n",
    "        Params\n",
    "        ======\n",
    "            local_model (PyTorch model): weights will be copied from\n",
    "            target_model (PyTorch model): weights will be copied to\n",
    "            tau (float): interpolation parameter \n",
    "        \"\"\"\n",
    "        for target_param, local_param in zip(target_model.parameters(), local_model.parameters()):\n",
    "            target_param.data.copy_(tau*local_param.data + (1.0-tau)*target_param.data)\n",
    "            "
   ]
  },
  {
   "cell_type": "markdown",
   "metadata": {},
   "source": [
    "#### Instantiate the Environment and Agent"
   ]
  },
  {
   "cell_type": "code",
   "execution_count": 9,
   "metadata": {
    "scrolled": true
   },
   "outputs": [
    {
     "name": "stdout",
     "output_type": "stream",
     "text": [
      "State shape:  (4,)\n",
      "Number of actions:  2\n"
     ]
    }
   ],
   "source": [
    "env = gym.make('CartPole-v1')\n",
    "env.seed(0)\n",
    "print('State shape: ', env.observation_space.shape)\n",
    "print('Number of actions: ', env.action_space.n)\n",
    "\n",
    "agent = Agent(state_size=4, action_size=2, seed=0)"
   ]
  },
  {
   "cell_type": "markdown",
   "metadata": {},
   "source": [
    "#### Instantiate the Environment and Agent\n",
    "Run the code cell below to train the agent from scratch.  You are welcome to amend the supplied values of the parameters in the function, to try to see if you can get better performance!"
   ]
  },
  {
   "cell_type": "code",
   "execution_count": 10,
   "metadata": {},
   "outputs": [],
   "source": [
    "def dqn_per(n_episodes=2000, max_t=1000, eps_start=1.0, eps_end=0.01, eps_decay=0.995):\n",
    "    \"\"\"Deep Q-Learning with Naive Prioritized Experience Replay.\"\"\"\n",
    "    \n",
    "    scores = []                        # list containing scores from each episode\n",
    "    scores_window = deque(maxlen=100)  # last 100 scores\n",
    "    eps = eps_start                    # initialize epsilon\n",
    "    \n",
    "    for i_episode in range(1, n_episodes+1):\n",
    "        state = env.reset()\n",
    "        score = 0\n",
    "        for t in range(max_t):\n",
    "            action = agent.act(state, eps)\n",
    "            next_state, reward, done, _ = env.step(action)\n",
    "            \n",
    "            agent.step(state, action, reward, next_state, done)\n",
    "            state = next_state\n",
    "            score += reward\n",
    "            if done:\n",
    "                break \n",
    "                \n",
    "        scores_window.append(score)       # save most recent score\n",
    "        scores.append(score)              # save most recent score\n",
    "        eps = max(eps_end, eps_decay*eps) # decrease epsilon\n",
    "        print('\\rEpisode {}\\tAverage Score: {:.2f}'.format(i_episode, np.mean(scores_window)), end=\"\")\n",
    "        if i_episode % 100 == 0:\n",
    "            print('\\rEpisode {}\\tAverage Score: {:.2f}'.format(i_episode, np.mean(scores_window)))\n",
    "        if np.mean(scores_window)>=200.0:\n",
    "            print('\\nEnvironment solved in {:d} episodes!\\tAverage Score: {:.2f}'.format(i_episode-100, np.mean(scores_window)))\n",
    "            torch.save(agent.qnetwork_local.state_dict(), 'checkpoint.pth')\n",
    "            break\n",
    "    return scores"
   ]
  },
  {
   "cell_type": "code",
   "execution_count": 11,
   "metadata": {},
   "outputs": [
    {
     "name": "stdout",
     "output_type": "stream",
     "text": [
      "Episode 100\tAverage Score: 20.40\n",
      "Episode 200\tAverage Score: 14.39\n",
      "Episode 300\tAverage Score: 12.11\n",
      "Episode 400\tAverage Score: 11.83\n",
      "Episode 500\tAverage Score: 12.68\n",
      "Episode 600\tAverage Score: 14.18\n",
      "Episode 700\tAverage Score: 25.91\n",
      "Episode 800\tAverage Score: 120.37\n",
      "Episode 900\tAverage Score: 199.25\n",
      "Episode 907\tAverage Score: 200.03\n",
      "Environment solved in 807 episodes!\tAverage Score: 200.03\n"
     ]
    }
   ],
   "source": [
    "# train the agent\n",
    "scores = dqn_per(n_episodes=2000, max_t=1000)"
   ]
  },
  {
   "cell_type": "code",
   "execution_count": 12,
   "metadata": {},
   "outputs": [
    {
     "data": {
      "image/png": "[encoded data removed]",
      "text/plain": [
       "<Figure size 432x288 with 1 Axes>"
      ]
     },
     "metadata": {
      "needs_background": "light"
     },
     "output_type": "display_data"
    }
   ],
   "source": [
    "# plot the scores\n",
    "fig = plt.figure()\n",
    "ax = fig.add_subplot(111)\n",
    "plt.plot(np.arange(len(scores)), scores)\n",
    "plt.ylabel('Score')\n",
    "plt.xlabel('Episode #')\n",
    "plt.show()"
   ]
  },
  {
   "cell_type": "markdown",
   "metadata": {},
   "source": [
    "### Simulate Emulator"
   ]
  },
  {
   "cell_type": "markdown",
   "metadata": {},
   "source": [
    "1. using replay buffer\n",
    "2. using random walk + successful run"
   ]
  },
  {
   "cell_type": "code",
   "execution_count": 92,
   "metadata": {},
   "outputs": [],
   "source": [
    "import pandas as pd\n",
    "\n",
    "import torch\n",
    "from torch.autograd import Variable\n",
    "import torch.nn.functional as F\n",
    "import torch.utils.data as Data"
   ]
  },
  {
   "cell_type": "code",
   "execution_count": 37,
   "metadata": {},
   "outputs": [],
   "source": [
    "replay_buffer = list(agent.memory.memory)"
   ]
  },
  {
   "cell_type": "code",
   "execution_count": 56,
   "metadata": {},
   "outputs": [
    {
     "data": {
      "text/plain": [
       "Experience(state=array([-0.04456399,  0.04653909,  0.01326909, -0.02099827]), action=1, reward=1.0, next_state=array([-0.04363321,  0.24146826,  0.01284913, -0.30946528]), done=False)"
      ]
     },
     "execution_count": 56,
     "metadata": {},
     "output_type": "execute_result"
    }
   ],
   "source": [
    "replay_buffer[0]"
   ]
  },
  {
   "cell_type": "code",
   "execution_count": 104,
   "metadata": {},
   "outputs": [],
   "source": [
    "# replay buffer component\n",
    "state = pd.DataFrame([i[0] for i in np.array(replay_buffer)], columns=['S1','S2','S3','S4'])\n",
    "action = pd.DataFrame([i[1] for i in np.array(replay_buffer)], columns=['A'])\n",
    "reward = pd.DataFrame([i[2] for i in np.array(replay_buffer)], columns=['R'])\n",
    "next_state = pd.DataFrame([i[3] for i in np.array(replay_buffer)], columns=['NS1','NS2','NS3','NS4'])\n",
    "done = pd.DataFrame([i[4] for i in np.array(replay_buffer)], columns=['T'])\n",
    "\n",
    "# combined data\n",
    "df = pd.concat([state,action,reward,next_state,done],axis=1)"
   ]
  },
  {
   "cell_type": "code",
   "execution_count": 84,
   "metadata": {},
   "outputs": [
    {
     "data": {
      "text/html": [
       "<div>\n",
       "<style scoped>\n",
       "    .dataframe tbody tr th:only-of-type {\n",
       "        vertical-align: middle;\n",
       "    }\n",
       "\n",
       "    .dataframe tbody tr th {\n",
       "        vertical-align: top;\n",
       "    }\n",
       "\n",
       "    .dataframe thead th {\n",
       "        text-align: right;\n",
       "    }\n",
       "</style>\n",
       "<table border=\"1\" class=\"dataframe\">\n",
       "  <thead>\n",
       "    <tr style=\"text-align: right;\">\n",
       "      <th></th>\n",
       "      <th>S1</th>\n",
       "      <th>S2</th>\n",
       "      <th>S3</th>\n",
       "      <th>S4</th>\n",
       "      <th>A</th>\n",
       "      <th>R</th>\n",
       "      <th>NS1</th>\n",
       "      <th>NS2</th>\n",
       "      <th>NS3</th>\n",
       "      <th>NS4</th>\n",
       "      <th>T</th>\n",
       "    </tr>\n",
       "  </thead>\n",
       "  <tbody>\n",
       "    <tr>\n",
       "      <th>0</th>\n",
       "      <td>-0.044564</td>\n",
       "      <td>0.046539</td>\n",
       "      <td>0.013269</td>\n",
       "      <td>-0.020998</td>\n",
       "      <td>1</td>\n",
       "      <td>1.0</td>\n",
       "      <td>-0.043633</td>\n",
       "      <td>0.241468</td>\n",
       "      <td>0.012849</td>\n",
       "      <td>-0.309465</td>\n",
       "      <td>False</td>\n",
       "    </tr>\n",
       "    <tr>\n",
       "      <th>1</th>\n",
       "      <td>-0.043633</td>\n",
       "      <td>0.241468</td>\n",
       "      <td>0.012849</td>\n",
       "      <td>-0.309465</td>\n",
       "      <td>1</td>\n",
       "      <td>1.0</td>\n",
       "      <td>-0.038804</td>\n",
       "      <td>0.436405</td>\n",
       "      <td>0.006660</td>\n",
       "      <td>-0.598068</td>\n",
       "      <td>False</td>\n",
       "    </tr>\n",
       "    <tr>\n",
       "      <th>2</th>\n",
       "      <td>-0.038804</td>\n",
       "      <td>0.436405</td>\n",
       "      <td>0.006660</td>\n",
       "      <td>-0.598068</td>\n",
       "      <td>1</td>\n",
       "      <td>1.0</td>\n",
       "      <td>-0.030076</td>\n",
       "      <td>0.631433</td>\n",
       "      <td>-0.005302</td>\n",
       "      <td>-0.888646</td>\n",
       "      <td>False</td>\n",
       "    </tr>\n",
       "    <tr>\n",
       "      <th>3</th>\n",
       "      <td>-0.030076</td>\n",
       "      <td>0.631433</td>\n",
       "      <td>-0.005302</td>\n",
       "      <td>-0.888646</td>\n",
       "      <td>1</td>\n",
       "      <td>1.0</td>\n",
       "      <td>-0.017447</td>\n",
       "      <td>0.826626</td>\n",
       "      <td>-0.023074</td>\n",
       "      <td>-1.182991</td>\n",
       "      <td>False</td>\n",
       "    </tr>\n",
       "    <tr>\n",
       "      <th>4</th>\n",
       "      <td>-0.017447</td>\n",
       "      <td>0.826626</td>\n",
       "      <td>-0.023074</td>\n",
       "      <td>-1.182991</td>\n",
       "      <td>0</td>\n",
       "      <td>1.0</td>\n",
       "      <td>-0.000915</td>\n",
       "      <td>0.631811</td>\n",
       "      <td>-0.046734</td>\n",
       "      <td>-0.897629</td>\n",
       "      <td>False</td>\n",
       "    </tr>\n",
       "  </tbody>\n",
       "</table>\n",
       "</div>"
      ],
      "text/plain": [
       "         S1        S2        S3        S4  A    R       NS1       NS2  \\\n",
       "0 -0.044564  0.046539  0.013269 -0.020998  1  1.0 -0.043633  0.241468   \n",
       "1 -0.043633  0.241468  0.012849 -0.309465  1  1.0 -0.038804  0.436405   \n",
       "2 -0.038804  0.436405  0.006660 -0.598068  1  1.0 -0.030076  0.631433   \n",
       "3 -0.030076  0.631433 -0.005302 -0.888646  1  1.0 -0.017447  0.826626   \n",
       "4 -0.017447  0.826626 -0.023074 -1.182991  0  1.0 -0.000915  0.631811   \n",
       "\n",
       "        NS3       NS4      T  \n",
       "0  0.012849 -0.309465  False  \n",
       "1  0.006660 -0.598068  False  \n",
       "2 -0.005302 -0.888646  False  \n",
       "3 -0.023074 -1.182991  False  \n",
       "4 -0.046734 -0.897629  False  "
      ]
     },
     "execution_count": 84,
     "metadata": {},
     "output_type": "execute_result"
    }
   ],
   "source": [
    "df.head()"
   ]
  },
  {
   "cell_type": "code",
   "execution_count": 105,
   "metadata": {},
   "outputs": [],
   "source": [
    "# Prepare Data For Training\n",
    "\n",
    "df.loc[:,'T'] = df.loc[:,'T'].astype(float)\n",
    "\n",
    "x = torch.tensor(df.loc[:,['S1','S2','S3','S4','A']].values)\n",
    "y = torch.tensor(df.loc[:,['R','NS1','NS2','NS3','NS4','T']].values)\n",
    "                 \n",
    "# torch can only train on Variable, so convert them to Variable\n",
    "x, y = Variable(x), Variable(y)"
   ]
  },
  {
   "cell_type": "code",
   "execution_count": 108,
   "metadata": {},
   "outputs": [],
   "source": [
    "torch_dataset = Data.TensorDataset(x, y)\n",
    "\n",
    "loader = Data.DataLoader(\n",
    "                            dataset=torch_dataset, \n",
    "                            batch_size=BATCH_SIZE, \n",
    "                            shuffle=True, num_workers=2,)"
   ]
  },
  {
   "cell_type": "code",
   "execution_count": 110,
   "metadata": {},
   "outputs": [],
   "source": [
    "# Set Hyper Parameter\n",
    "EPOCH = 10"
   ]
  },
  {
   "cell_type": "code",
   "execution_count": 113,
   "metadata": {},
   "outputs": [
    {
     "name": "stdout",
     "output_type": "stream",
     "text": [
      "FCNN(\n",
      "  (h1): Linear(in_features=5, out_features=300, bias=True)\n",
      "  (h2): Linear(in_features=300, out_features=200, bias=True)\n",
      "  (h3): Linear(in_features=200, out_features=100, bias=True)\n",
      "  (h4): Linear(in_features=100, out_features=50, bias=True)\n",
      "  (h5): Linear(in_features=50, out_features=6, bias=True)\n",
      ")\n"
     ]
    }
   ],
   "source": [
    "# Fully Connected Network\n",
    "\n",
    "class FCNN(torch.nn.Module):\n",
    "    def __init__(self, n_feature, n_output):\n",
    "        super(FCNN, self).__init__()\n",
    "        self.h1 = torch.nn.Linear(n_feature, 300)   \n",
    "        self.h2 = torch.nn.Linear(300, 200)    \n",
    "        self.h3 = torch.nn.Linear(200, 100)    \n",
    "        self.h4 = torch.nn.Linear(100, 50)     \n",
    "        self.h5 = torch.nn.Linear(50, n_output) \n",
    "\n",
    "    def forward(self, x):\n",
    "        x = F.relu(self.h1(x))        # activation function for hidden layer\n",
    "        x = F.relu(self.h2(x))\n",
    "        x = F.relu(self.h3(x))\n",
    "        x = F.relu(self.h4(x))\n",
    "        x = F.relu(self.h5(x))\n",
    "        \n",
    "        x = self.predict(x)           # linear output\n",
    "        return x\n",
    "\n",
    "net = FCNN(n_feature=5, n_output=6)   # define the network\n",
    "\n",
    "optimizer = torch.optim.Adam(net.parameters(), lr=0.01)\n",
    "loss_func = torch.nn.MSELoss()\n",
    "\n",
    "print(net)  # net architecture"
   ]
  },
  {
   "cell_type": "code",
   "execution_count": 115,
   "metadata": {},
   "outputs": [],
   "source": [
    "# another way to define a network\n",
    "net = torch.nn.Sequential(\n",
    "            torch.nn.Linear(5, 300),torch.nn.LeakyReLU(),\n",
    "            torch.nn.Linear(300, 200),torch.nn.LeakyReLU(),\n",
    "            torch.nn.Linear(200, 100),torch.nn.LeakyReLU(),\n",
    "            torch.nn.Linear(100, 50),torch.nn.LeakyReLU(),\n",
    "            torch.nn.Linear(50, 6),)\n",
    "\n",
    "optimizer = torch.optim.Adam(net.parameters(), lr=0.01)\n",
    "loss_func = torch.nn.MSELoss()  # this is for regression mean squared loss\n",
    "\n",
    "BATCH_SIZE = 64\n",
    "EPOCH = 200\n",
    "\n",
    "torch_dataset = Data.TensorDataset(x, y)"
   ]
  },
  {
   "cell_type": "code",
   "execution_count": 119,
   "metadata": {},
   "outputs": [],
   "source": [
    "for epoch in range(EPOCH):\n",
    "    for step, (batch_x, batch_y) in enumerate(loader): # for each training step\n",
    "        \n",
    "        b_x = Variable(batch_x)\n",
    "        b_y = Variable(batch_y)\n",
    "\n",
    "        prediction = net(b_x.float())     # input x and predict based on x\n",
    "\n",
    "        loss = loss_func(prediction, b_y.float())     # must be (1. nn output, 2. target)\n",
    "\n",
    "        optimizer.zero_grad()   # clear gradients for next train\n",
    "        loss.backward()         # backpropagation, compute gradients\n",
    "        optimizer.step()        # apply gradients\n",
    "\n",
    "#         if step == 1:\n",
    "#             # plot and show learning process\n",
    "#             plt.cla()\n",
    "#             ax.set_title('Regression Analysis - model 3 Batches', fontsize=35)\n",
    "#             ax.set_xlabel('Independent variable', fontsize=24)\n",
    "#             ax.set_ylabel('Dependent variable', fontsize=24)\n",
    "#             ax.set_xlim(-11.0, 13.0)\n",
    "#             ax.set_ylim(-1.1, 1.2)\n",
    "#             ax.scatter(b_x.data.numpy(), b_y.data.numpy(), color = \"blue\", alpha=0.2)\n",
    "#             ax.scatter(b_x.data.numpy(), prediction.data.numpy(), color='green', alpha=0.5)\n",
    "#             ax.text(8.8, -0.8, 'Epoch = %d' % epoch,\n",
    "#                     fontdict={'size': 24, 'color':  'red'})\n",
    "#             ax.text(8.8, -0.95, 'Loss = %.4f' % loss.data.numpy(),\n",
    "#                     fontdict={'size': 24, 'color':  'red'})\n",
    "\n",
    "#             # Used to return the plot as an image array \n",
    "#             # (https://ndres.me/post/matplotlib-animated-gifs-easily/)\n",
    "#             fig.canvas.draw()       # draw the canvas, cache the renderer\n",
    "#             image = np.frombuffer(fig.canvas.tostring_rgb(), dtype='uint8')\n",
    "#             image  = image.reshape(fig.canvas.get_width_height()[::-1] + (3,))\n",
    "\n",
    "#             my_images.append(image)"
   ]
  },
  {
   "cell_type": "code",
   "execution_count": 142,
   "metadata": {},
   "outputs": [],
   "source": [
    "_pred = net(torch_dataset[:][0].float())"
   ]
  },
  {
   "cell_type": "code",
   "execution_count": 143,
   "metadata": {},
   "outputs": [],
   "source": [
    "_act = torch_dataset[:][1].float()"
   ]
  },
  {
   "cell_type": "code",
   "execution_count": 144,
   "metadata": {},
   "outputs": [
    {
     "data": {
      "text/plain": [
       "tensor(0.0039, grad_fn=<MseLossBackward>)"
      ]
     },
     "execution_count": 144,
     "metadata": {},
     "output_type": "execute_result"
    }
   ],
   "source": [
    "loss_func(_pred,_act)"
   ]
  },
  {
   "cell_type": "code",
   "execution_count": 145,
   "metadata": {},
   "outputs": [
    {
     "data": {
      "text/plain": [
       "0.6278936360689314"
      ]
     },
     "execution_count": 145,
     "metadata": {},
     "output_type": "execute_result"
    }
   ],
   "source": [
    "from sklearn.metrics import r2_score\n",
    "r2_score(_act.detach().numpy(),_pred.detach().numpy())"
   ]
  },
  {
   "cell_type": "code",
   "execution_count": null,
   "metadata": {},
   "outputs": [],
   "source": []
  },
  {
   "cell_type": "code",
   "execution_count": null,
   "metadata": {},
   "outputs": [],
   "source": []
  },
  {
   "cell_type": "code",
   "execution_count": null,
   "metadata": {},
   "outputs": [],
   "source": []
  },
  {
   "cell_type": "code",
   "execution_count": null,
   "metadata": {},
   "outputs": [],
   "source": [
    "# random rewards"
   ]
  },
  {
   "cell_type": "code",
   "execution_count": 26,
   "metadata": {},
   "outputs": [
    {
     "data": {
      "text/plain": [
       "0"
      ]
     },
     "execution_count": 26,
     "metadata": {},
     "output_type": "execute_result"
    }
   ],
   "source": [
    "# np.array(self.state), reward, done, {}\n",
    "\n",
    "env.reset()\n",
    "\n",
    "for i in range(1000000):\n",
    "    a = env.step(env.action_space.sample())\n",
    "    if a[1]>5:\n",
    "        print(i,a)\n",
    "        break"
   ]
  },
  {
   "cell_type": "code",
   "execution_count": null,
   "metadata": {},
   "outputs": [],
   "source": []
  },
  {
   "cell_type": "code",
   "execution_count": null,
   "metadata": {},
   "outputs": [],
   "source": []
  },
  {
   "cell_type": "code",
   "execution_count": null,
   "metadata": {},
   "outputs": [],
   "source": []
  }
 ],
 "metadata": {
  "kernelspec": {
   "display_name": "Python 3",
   "language": "python",
   "name": "python3"
  },
  "language_info": {
   "codemirror_mode": {
    "name": "ipython",
    "version": 3
   },
   "file_extension": ".py",
   "mimetype": "text/x-python",
   "name": "python",
   "nbconvert_exporter": "python",
   "pygments_lexer": "ipython3",
   "version": "3.6.7"
  }
 },
 "nbformat": 4,
 "nbformat_minor": 4
}
