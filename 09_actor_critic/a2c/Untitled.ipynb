{
 "cells": [
  {
   "cell_type": "code",
   "execution_count": null,
   "metadata": {},
   "outputs": [],
   "source": [
    "import torch\n"
   ]
  },
  {
   "cell_type": "code",
   "execution_count": null,
   "metadata": {},
   "outputs": [],
   "source": [
    "def a2c_feature(**kwargs):\n",
    "    generate_tag(kwargs)\n",
    "    kwargs.setdefault('log_level', 0)\n",
    "    config = Config()\n",
    "    config.merge(kwargs)\n",
    "\n",
    "    config.num_workers = 5\n",
    "    config.task_fn = lambda: Task(config.game, num_envs=config.num_workers)\n",
    "    config.eval_env = Task(config.game)\n",
    "    config.optimizer_fn = lambda params: torch.optim.RMSprop(params, 0.001)\n",
    "    config.network_fn = lambda: CategoricalActorCriticNet(\n",
    "        config.state_dim, config.action_dim, FCBody(config.state_dim, gate=F.tanh))\n",
    "    config.discount = 0.99\n",
    "    config.use_gae = True\n",
    "    config.gae_tau = 0.95\n",
    "    config.entropy_weight = 0.01\n",
    "    config.rollout_length = 5\n",
    "    config.gradient_clip = 0.5\n",
    "    run_steps(A2CAgent(config))"
   ]
  }
 ],
 "metadata": {
  "kernelspec": {
   "display_name": "Python 3",
   "language": "python",
   "name": "python3"
  },
  "language_info": {
   "codemirror_mode": {
    "name": "ipython",
    "version": 3
   },
   "file_extension": ".py",
   "mimetype": "text/x-python",
   "name": "python",
   "nbconvert_exporter": "python",
   "pygments_lexer": "ipython3",
   "version": "3.7.4"
  }
 },
 "nbformat": 4,
 "nbformat_minor": 4
}
